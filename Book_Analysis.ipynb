{
 "cells": [
  {
   "cell_type": "markdown",
   "id": "f456776f-ea0f-4422-8414-8b048a6d567b",
   "metadata": {
    "tags": []
   },
   "source": [
    "# Load the book"
   ]
  },
  {
   "cell_type": "code",
   "execution_count": 1,
   "id": "af0fc851-faa0-49dd-87cf-d61322b4caaa",
   "metadata": {
    "tags": []
   },
   "outputs": [],
   "source": [
    "with open(r\"C:\\Users\\bunny\\Downloads\\miracle_in_the_andes.txt\", \"r\", encoding=\"utf-8\") as file:\n",
    "    book = file.read()"
   ]
  },
  {
   "cell_type": "code",
   "execution_count": 2,
   "id": "97e2f3ec-a661-4716-88c3-44391f946b9f",
   "metadata": {
    "tags": []
   },
   "outputs": [
    {
     "data": {
      "text/plain": [
       "str"
      ]
     },
     "execution_count": 2,
     "metadata": {},
     "output_type": "execute_result"
    }
   ],
   "source": [
    "type(book)"
   ]
  },
  {
   "cell_type": "markdown",
   "id": "fb26ea7b-466f-4010-87aa-30d059aedbaf",
   "metadata": {
    "tags": []
   },
   "source": [
    "# How many chapters"
   ]
  },
  {
   "cell_type": "code",
   "execution_count": 3,
   "id": "504a7a01-b09e-4a37-a4f8-2cba8e43abb5",
   "metadata": {
    "tags": []
   },
   "outputs": [
    {
     "data": {
      "text/plain": [
       "11"
      ]
     },
     "execution_count": 3,
     "metadata": {},
     "output_type": "execute_result"
    }
   ],
   "source": [
    "book.count(\"Chapter\")"
   ]
  },
  {
   "cell_type": "markdown",
   "id": "f8d8343e-832d-457e-b422-9dc8a0d0f73f",
   "metadata": {
    "tags": []
   },
   "source": [
    "## with regex"
   ]
  },
  {
   "cell_type": "code",
   "execution_count": 4,
   "id": "725114bd-10e4-4e2d-a5d3-81ffb845b1c9",
   "metadata": {
    "tags": []
   },
   "outputs": [],
   "source": [
    "import re"
   ]
  },
  {
   "cell_type": "code",
   "execution_count": 5,
   "id": "5a18dfdc-17a1-4e1f-bcce-438c8389e05c",
   "metadata": {
    "tags": []
   },
   "outputs": [
    {
     "data": {
      "text/plain": [
       "10"
      ]
     },
     "execution_count": 5,
     "metadata": {},
     "output_type": "execute_result"
    }
   ],
   "source": [
    "patteren= re.compile(\"Chapter [0-9]+\")\n",
    "findings =re.findall(patteren,book)\n",
    "len(findings)"
   ]
  },
  {
   "cell_type": "markdown",
   "id": "cebc3e07-5a5e-4b51-9411-698100d14f3b",
   "metadata": {
    "tags": []
   },
   "source": [
    "# Finding Love"
   ]
  },
  {
   "cell_type": "code",
   "execution_count": 22,
   "id": "61685f90-6804-4de9-be03-45b531f7d5da",
   "metadata": {
    "tags": []
   },
   "outputs": [
    {
     "data": {
      "text/plain": [
       "['As a young man, of course, I could not put these things into words, but I knew, and my teammates knew, that there was something special about the game, and under the guidance of the Christian Brothers we developed a passionate love for the sport that shaped our friendships and our lives.']"
      ]
     },
     "execution_count": 22,
     "metadata": {},
     "output_type": "execute_result"
    }
   ],
   "source": [
    "patteren= re.compile(\"[A-Z]{1}[^.]*[^a-z-A-Z]+love[^a-z-A-Z]+[^.]*.\")\n",
    "findings =re.findall(patteren,book)\n",
    "findings[:1]"
   ]
  },
  {
   "cell_type": "code",
   "execution_count": 7,
   "id": "14af66c2-f727-4694-bf28-7023a398edb5",
   "metadata": {
    "tags": []
   },
   "outputs": [
    {
     "data": {
      "text/plain": [
       "['chapter', 'before', 'it', 'was', 'friday']"
      ]
     },
     "execution_count": 7,
     "metadata": {},
     "output_type": "execute_result"
    }
   ],
   "source": [
    "patteren= re.compile(\"[a-z-A-Z]+\")\n",
    "findings =re.findall(patteren,book.lower())\n",
    "findings[:5]"
   ]
  },
  {
   "cell_type": "code",
   "execution_count": 8,
   "id": "14015e92-0edd-440b-a8d5-e80df2c6a250",
   "metadata": {
    "tags": []
   },
   "outputs": [],
   "source": [
    "d = {}\n",
    "for word in findings:\n",
    "    if word in d.keys():\n",
    "        d[word]= d[word]+1\n",
    "        \n",
    "    else:\n",
    "        d[word] = 1\n",
    "\n",
    "    "
   ]
  },
  {
   "cell_type": "code",
   "execution_count": 21,
   "id": "ab8bf085-c978-475a-bc7a-fcb7897e686a",
   "metadata": {
    "tags": []
   },
   "outputs": [
    {
     "data": {
      "text/plain": [
       "[(5346, 'the'), (2793, 'and'), (2729, 'i')]"
      ]
     },
     "execution_count": 21,
     "metadata": {},
     "output_type": "execute_result"
    }
   ],
   "source": [
    "d_list = [(value,key) for (key,value) in d.items()]\n",
    "sorted(d_list,reverse=True)[:3]"
   ]
  },
  {
   "cell_type": "code",
   "execution_count": 10,
   "id": "3b6c03c3-a1ba-4876-84c8-2f96f00ca8e9",
   "metadata": {
    "tags": []
   },
   "outputs": [
    {
     "name": "stderr",
     "output_type": "stream",
     "text": [
      "[nltk_data] Downloading package stopwords to\n",
      "[nltk_data]     C:\\Users\\bunny\\AppData\\Roaming\\nltk_data...\n",
      "[nltk_data]   Package stopwords is already up-to-date!\n"
     ]
    },
    {
     "data": {
      "text/plain": [
       "True"
      ]
     },
     "execution_count": 10,
     "metadata": {},
     "output_type": "execute_result"
    }
   ],
   "source": [
    "import nltk\n",
    "nltk.download('stopwords')"
   ]
  },
  {
   "cell_type": "code",
   "execution_count": 17,
   "id": "7fe923a8-5fa2-4c95-be3b-e0f0f8d6b138",
   "metadata": {
    "tags": []
   },
   "outputs": [],
   "source": [
    "import nltk\n",
    "from nltk.corpus import stopwords\n",
    "\n",
    "english_stopwords = stopwords.words(\"english\")"
   ]
  },
  {
   "cell_type": "code",
   "execution_count": 18,
   "id": "0a4d06d3-2bd5-4f3d-9ec8-8ed0a993d374",
   "metadata": {
    "tags": []
   },
   "outputs": [],
   "source": [
    "filtered_words = []\n",
    "for count,word in d_list:\n",
    "    if word not in english_stopwords:\n",
    "        filtered_words.append((word,count))"
   ]
  },
  {
   "cell_type": "code",
   "execution_count": 20,
   "id": "3aba98e5-3eb2-492e-b481-23adb81fa6f8",
   "metadata": {
    "tags": []
   },
   "outputs": [
    {
     "data": {
      "text/plain": [
       "[('chapter', 11), ('friday', 1), ('thirteenth', 1), ('october', 8)]"
      ]
     },
     "execution_count": 20,
     "metadata": {},
     "output_type": "execute_result"
    }
   ],
   "source": [
    "filtered_words[:4]"
   ]
  },
  {
   "cell_type": "code",
   "execution_count": 29,
   "id": "03b59b75-a5a5-4412-a031-1bcdc702000f",
   "metadata": {
    "tags": []
   },
   "outputs": [],
   "source": [
    "from nltk.sentiment import SentimentIntensityAnalyzer"
   ]
  },
  {
   "cell_type": "code",
   "execution_count": 27,
   "id": "ea04ed25-e744-46bb-8c7e-f5ba202b2572",
   "metadata": {
    "tags": []
   },
   "outputs": [
    {
     "name": "stderr",
     "output_type": "stream",
     "text": [
      "[nltk_data] Downloading package vader_lexicon to\n",
      "[nltk_data]     C:\\Users\\bunny\\AppData\\Roaming\\nltk_data...\n"
     ]
    },
    {
     "data": {
      "text/plain": [
       "True"
      ]
     },
     "execution_count": 27,
     "metadata": {},
     "output_type": "execute_result"
    }
   ],
   "source": [
    "nltk.download('vader_lexicon')"
   ]
  },
  {
   "cell_type": "code",
   "execution_count": 30,
   "id": "7cbf4b94-02de-443d-8390-5646684bf0d6",
   "metadata": {
    "tags": []
   },
   "outputs": [],
   "source": [
    "analyzer = SentimentIntensityAnalyzer()"
   ]
  },
  {
   "cell_type": "code",
   "execution_count": 40,
   "id": "2811d9d2-da67-4bbf-a051-e92365f53e6e",
   "metadata": {
    "tags": []
   },
   "outputs": [],
   "source": [
    "scores = analyzer.polarity_scores(book)"
   ]
  },
  {
   "cell_type": "code",
   "execution_count": 42,
   "id": "f99bd688-d5a8-47f3-be60-7590ae2f1278",
   "metadata": {
    "tags": []
   },
   "outputs": [
    {
     "name": "stdout",
     "output_type": "stream",
     "text": [
      "It is a positive text\n"
     ]
    }
   ],
   "source": [
    "if scores [\"pos\"] > scores [\"neg\"]:\n",
    "    print(\"It is a positive text\")\n",
    "    \n",
    "else:\n",
    "    print(\"It is a negitive text\")\n"
   ]
  },
  {
   "cell_type": "code",
   "execution_count": 44,
   "id": "c72e84ba-1065-4f76-bd04-1eeaf51c8bda",
   "metadata": {
    "tags": []
   },
   "outputs": [],
   "source": [
    "import re\n",
    "pattern = re.compile(\"chapter [0-9]+\")\n",
    "chapters = re.split(pattern,book)                      "
   ]
  },
  {
   "cell_type": "code",
   "execution_count": null,
   "id": "fa57d0b5-f0ef-47f4-a79d-af556e2dfd36",
   "metadata": {
    "tags": []
   },
   "outputs": [],
   "source": [
    "chapters = chapters [1:]"
   ]
  },
  {
   "cell_type": "code",
   "execution_count": 49,
   "id": "e9a78fd8-e669-46ac-89c2-8b771766f0a1",
   "metadata": {
    "tags": []
   },
   "outputs": [
    {
     "name": "stdout",
     "output_type": "stream",
     "text": [
      "{'neg': 0.116, 'neu': 0.76, 'pos': 0.125, 'compound': 1.0}\n"
     ]
    }
   ],
   "source": [
    "for chapter in chapters:\n",
    "    scores = analyzer.polarity_scores(chapter)\n",
    "    print(scores)"
   ]
  }
 ],
 "metadata": {
  "kernelspec": {
   "display_name": "Python 3 (ipykernel)",
   "language": "python",
   "name": "python3"
  },
  "language_info": {
   "codemirror_mode": {
    "name": "ipython",
    "version": 3
   },
   "file_extension": ".py",
   "mimetype": "text/x-python",
   "name": "python",
   "nbconvert_exporter": "python",
   "pygments_lexer": "ipython3",
   "version": "3.11.5"
  }
 },
 "nbformat": 4,
 "nbformat_minor": 5
}
